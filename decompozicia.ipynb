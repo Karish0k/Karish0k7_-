{
 "cells": [
  {
   "cell_type": "markdown",
   "id": "c43011ba",
   "metadata": {},
   "source": [
    "Датасет содержит данные о клиентах банка «Метанпром». Банк располагается в Ярославле и областных городах: Ростов Великий и Рыбинск."
   ]
  },
  {
   "cell_type": "markdown",
   "id": "3753d6bf",
   "metadata": {},
   "source": [
    "Колонки:\n",
    "\n",
    "- `userid` — идентификатор пользователя,\n",
    "- `score` — баллы кредитного скоринга,\n",
    "- `City` — город,\n",
    "- `Gender` — пол,\n",
    "- `Age` — возраст,\n",
    "- `Objects` — количество объектов в собственности,\n",
    "- `Balance` — баланс на счёте,\n",
    "- `Products` — количество продуктов, которыми пользуется клиент,\n",
    "- `CreditCard` — есть ли кредитная карта,\n",
    "- `Loyalty` — активный клиент,\n",
    "- `estimated_salary` — заработная плата клиента,\n",
    "- `Churn` — ушёл или нет."
   ]
  },
  {
   "cell_type": "markdown",
   "id": "8d75c97d",
   "metadata": {},
   "source": [
    "# Декомпозиция\n",
    "\n",
    "\n",
    " **1.  Пред обработка и иследование  данных**\n",
    " \n",
    " * Загрузка и первичное знакомство с данными\n",
    " * Поиск дубликатов\n",
    " * Проверка корректности данных\n",
    " \n",
    "\n",
    " **2.  Анализ событий**\n",
    " \n",
    " **3.  Исследовательский анализ данных.**\n",
    " \n",
    " **4.  Сегментация пользователей на основе данных о количестве потребляемых продуктов**\n",
    "\n",
    " **5.  Формулировка и проверка статистических гипотез.**\n",
    " \n",
    " 1.  Проверка гипотезы различия дохода между теми клиентами, которые пользуются двумя продуктами банка, и теми, которые пользуются одним.\n",
    " 2.  Формулировка и проверка статистической гипотезы относительно представленных данных.\n",
    "      \n",
    "      \n",
    " **6.  Выводы и  и рекомендациями по удержанию клиентов**"
   ]
  },
  {
   "cell_type": "markdown",
   "id": "557c5bff",
   "metadata": {},
   "source": [
    "<div class='alert alert-success'> 👍\t\n",
    "Здравствуй, Карина!\n",
    "\n",
    "В целом получилось все корректно. Можещшь продолжать работу над проектом!\n",
    "\n"
   ]
  }
 ],
 "metadata": {
  "ExecuteTimeLog": [
   {
    "duration": 125,
    "start_time": "2022-08-25T17:03:30.627Z"
   }
  ],
  "kernelspec": {
   "display_name": "Python 3 (ipykernel)",
   "language": "python",
   "name": "python3"
  },
  "language_info": {
   "codemirror_mode": {
    "name": "ipython",
    "version": 3
   },
   "file_extension": ".py",
   "mimetype": "text/x-python",
   "name": "python",
   "nbconvert_exporter": "python",
   "pygments_lexer": "ipython3",
   "version": "3.9.5"
  },
  "toc": {
   "base_numbering": 1,
   "nav_menu": {},
   "number_sections": true,
   "sideBar": true,
   "skip_h1_title": true,
   "title_cell": "Table of Contents",
   "title_sidebar": "Contents",
   "toc_cell": false,
   "toc_position": {},
   "toc_section_display": true,
   "toc_window_display": false
  }
 },
 "nbformat": 4,
 "nbformat_minor": 5
}
